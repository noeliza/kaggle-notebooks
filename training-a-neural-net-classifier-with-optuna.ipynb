{
 "cells": [
  {
   "cell_type": "markdown",
   "metadata": {},
   "source": [
    "# Import libraries"
   ]
  },
  {
   "cell_type": "code",
   "execution_count": 20,
   "metadata": {
    "execution": {
     "iopub.execute_input": "2024-06-07T10:35:17.956957Z",
     "iopub.status.busy": "2024-06-07T10:35:17.956722Z",
     "iopub.status.idle": "2024-06-07T10:35:17.964668Z",
     "shell.execute_reply": "2024-06-07T10:35:17.963707Z",
     "shell.execute_reply.started": "2024-06-07T10:35:17.956935Z"
    }
   },
   "outputs": [
    {
     "data": {
      "text/plain": [
       "'cuda'"
      ]
     },
     "execution_count": 20,
     "metadata": {},
     "output_type": "execute_result"
    }
   ],
   "source": [
    "import pandas as pd\n",
    "import numpy as np\n",
    "import seaborn as sns\n",
    "from sklearn.preprocessing import OneHotEncoder, MinMaxScaler\n",
    "from sklearn.model_selection import train_test_split\n",
    "import optuna\n",
    "from sklearn.metrics import accuracy_score, f1_score, confusion_matrix, ConfusionMatrixDisplay\n",
    "import matplotlib.pyplot as plt \n",
    "import torch\n",
    "import torch.nn as nn\n",
    "\n",
    "device = \"cuda\" if torch.cuda.is_available() else \"cpu\"\n",
    "device"
   ]
  },
  {
   "cell_type": "markdown",
   "metadata": {},
   "source": [
    "# Load the data"
   ]
  },
  {
   "cell_type": "code",
   "execution_count": 21,
   "metadata": {
    "execution": {
     "iopub.execute_input": "2024-06-07T10:35:17.965938Z",
     "iopub.status.busy": "2024-06-07T10:35:17.965688Z",
     "iopub.status.idle": "2024-06-07T10:35:18.009652Z",
     "shell.execute_reply": "2024-06-07T10:35:18.008827Z",
     "shell.execute_reply.started": "2024-06-07T10:35:17.965916Z"
    }
   },
   "outputs": [
    {
     "data": {
      "text/html": [
       "<div>\n",
       "<style scoped>\n",
       "    .dataframe tbody tr th:only-of-type {\n",
       "        vertical-align: middle;\n",
       "    }\n",
       "\n",
       "    .dataframe tbody tr th {\n",
       "        vertical-align: top;\n",
       "    }\n",
       "\n",
       "    .dataframe thead th {\n",
       "        text-align: right;\n",
       "    }\n",
       "</style>\n",
       "<table border=\"1\" class=\"dataframe\">\n",
       "  <thead>\n",
       "    <tr style=\"text-align: right;\">\n",
       "      <th></th>\n",
       "      <th>CustomerId</th>\n",
       "      <th>Surname</th>\n",
       "      <th>CreditScore</th>\n",
       "      <th>Geography</th>\n",
       "      <th>Gender</th>\n",
       "      <th>Age</th>\n",
       "      <th>Tenure</th>\n",
       "      <th>Balance</th>\n",
       "      <th>NumOfProducts</th>\n",
       "      <th>HasCrCard</th>\n",
       "      <th>IsActiveMember</th>\n",
       "      <th>EstimatedSalary</th>\n",
       "      <th>Exited</th>\n",
       "    </tr>\n",
       "  </thead>\n",
       "  <tbody>\n",
       "    <tr>\n",
       "      <th>0</th>\n",
       "      <td>15634602</td>\n",
       "      <td>Hargrave</td>\n",
       "      <td>619</td>\n",
       "      <td>France</td>\n",
       "      <td>Female</td>\n",
       "      <td>42</td>\n",
       "      <td>2</td>\n",
       "      <td>0.00</td>\n",
       "      <td>1</td>\n",
       "      <td>1</td>\n",
       "      <td>1</td>\n",
       "      <td>101348.88</td>\n",
       "      <td>1</td>\n",
       "    </tr>\n",
       "    <tr>\n",
       "      <th>1</th>\n",
       "      <td>15647311</td>\n",
       "      <td>Hill</td>\n",
       "      <td>608</td>\n",
       "      <td>Spain</td>\n",
       "      <td>Female</td>\n",
       "      <td>41</td>\n",
       "      <td>1</td>\n",
       "      <td>83807.86</td>\n",
       "      <td>1</td>\n",
       "      <td>0</td>\n",
       "      <td>1</td>\n",
       "      <td>112542.58</td>\n",
       "      <td>0</td>\n",
       "    </tr>\n",
       "    <tr>\n",
       "      <th>2</th>\n",
       "      <td>15619304</td>\n",
       "      <td>Onio</td>\n",
       "      <td>502</td>\n",
       "      <td>France</td>\n",
       "      <td>Female</td>\n",
       "      <td>42</td>\n",
       "      <td>8</td>\n",
       "      <td>159660.80</td>\n",
       "      <td>3</td>\n",
       "      <td>1</td>\n",
       "      <td>0</td>\n",
       "      <td>113931.57</td>\n",
       "      <td>1</td>\n",
       "    </tr>\n",
       "    <tr>\n",
       "      <th>3</th>\n",
       "      <td>15701354</td>\n",
       "      <td>Boni</td>\n",
       "      <td>699</td>\n",
       "      <td>France</td>\n",
       "      <td>Female</td>\n",
       "      <td>39</td>\n",
       "      <td>1</td>\n",
       "      <td>0.00</td>\n",
       "      <td>2</td>\n",
       "      <td>0</td>\n",
       "      <td>0</td>\n",
       "      <td>93826.63</td>\n",
       "      <td>0</td>\n",
       "    </tr>\n",
       "    <tr>\n",
       "      <th>4</th>\n",
       "      <td>15737888</td>\n",
       "      <td>Mitchell</td>\n",
       "      <td>850</td>\n",
       "      <td>Spain</td>\n",
       "      <td>Female</td>\n",
       "      <td>43</td>\n",
       "      <td>2</td>\n",
       "      <td>125510.82</td>\n",
       "      <td>1</td>\n",
       "      <td>1</td>\n",
       "      <td>1</td>\n",
       "      <td>79084.10</td>\n",
       "      <td>0</td>\n",
       "    </tr>\n",
       "  </tbody>\n",
       "</table>\n",
       "</div>"
      ],
      "text/plain": [
       "   CustomerId   Surname  CreditScore Geography  Gender  Age  Tenure  \\\n",
       "0    15634602  Hargrave          619    France  Female   42       2   \n",
       "1    15647311      Hill          608     Spain  Female   41       1   \n",
       "2    15619304      Onio          502    France  Female   42       8   \n",
       "3    15701354      Boni          699    France  Female   39       1   \n",
       "4    15737888  Mitchell          850     Spain  Female   43       2   \n",
       "\n",
       "     Balance  NumOfProducts  HasCrCard  IsActiveMember  EstimatedSalary  \\\n",
       "0       0.00              1          1               1        101348.88   \n",
       "1   83807.86              1          0               1        112542.58   \n",
       "2  159660.80              3          1               0        113931.57   \n",
       "3       0.00              2          0               0         93826.63   \n",
       "4  125510.82              1          1               1         79084.10   \n",
       "\n",
       "   Exited  \n",
       "0       1  \n",
       "1       0  \n",
       "2       1  \n",
       "3       0  \n",
       "4       0  "
      ]
     },
     "execution_count": 21,
     "metadata": {},
     "output_type": "execute_result"
    }
   ],
   "source": [
    "data = pd.read_csv('/kaggle/input/bank-customer-churn/Churn_Modelling.csv')\\\n",
    "    .drop('RowNumber', axis = 1)\n",
    "data.head()"
   ]
  },
  {
   "cell_type": "code",
   "execution_count": 22,
   "metadata": {
    "execution": {
     "iopub.execute_input": "2024-06-07T10:35:18.010960Z",
     "iopub.status.busy": "2024-06-07T10:35:18.010642Z",
     "iopub.status.idle": "2024-06-07T10:35:18.015225Z",
     "shell.execute_reply": "2024-06-07T10:35:18.014348Z",
     "shell.execute_reply.started": "2024-06-07T10:35:18.010929Z"
    }
   },
   "outputs": [
    {
     "name": "stdout",
     "output_type": "stream",
     "text": [
      "No of rows: 10000\n",
      "No of columns: 13\n"
     ]
    }
   ],
   "source": [
    "print(f'No of rows: {data.shape[0]}\\nNo of columns: {data.shape[1]}')"
   ]
  },
  {
   "cell_type": "markdown",
   "metadata": {},
   "source": [
    "# EDA\n",
    "\n",
    "Just a basic EDA as this notebook created to practice model building."
   ]
  },
  {
   "cell_type": "code",
   "execution_count": 23,
   "metadata": {
    "execution": {
     "iopub.execute_input": "2024-06-07T10:35:18.016549Z",
     "iopub.status.busy": "2024-06-07T10:35:18.016263Z",
     "iopub.status.idle": "2024-06-07T10:35:18.030379Z",
     "shell.execute_reply": "2024-06-07T10:35:18.029473Z",
     "shell.execute_reply.started": "2024-06-07T10:35:18.016519Z"
    }
   },
   "outputs": [
    {
     "data": {
      "text/plain": [
       "CustomerId         0\n",
       "Surname            0\n",
       "CreditScore        0\n",
       "Geography          0\n",
       "Gender             0\n",
       "Age                0\n",
       "Tenure             0\n",
       "Balance            0\n",
       "NumOfProducts      0\n",
       "HasCrCard          0\n",
       "IsActiveMember     0\n",
       "EstimatedSalary    0\n",
       "Exited             0\n",
       "dtype: int64"
      ]
     },
     "execution_count": 23,
     "metadata": {},
     "output_type": "execute_result"
    }
   ],
   "source": [
    "# check if there are missing values\n",
    "data.isna().sum()"
   ]
  },
  {
   "cell_type": "code",
   "execution_count": 24,
   "metadata": {
    "execution": {
     "iopub.execute_input": "2024-06-07T10:35:18.031544Z",
     "iopub.status.busy": "2024-06-07T10:35:18.031270Z",
     "iopub.status.idle": "2024-06-07T10:35:18.045718Z",
     "shell.execute_reply": "2024-06-07T10:35:18.044757Z",
     "shell.execute_reply.started": "2024-06-07T10:35:18.031520Z"
    }
   },
   "outputs": [
    {
     "data": {
      "text/html": [
       "<div>\n",
       "<style scoped>\n",
       "    .dataframe tbody tr th:only-of-type {\n",
       "        vertical-align: middle;\n",
       "    }\n",
       "\n",
       "    .dataframe tbody tr th {\n",
       "        vertical-align: top;\n",
       "    }\n",
       "\n",
       "    .dataframe thead th {\n",
       "        text-align: right;\n",
       "    }\n",
       "</style>\n",
       "<table border=\"1\" class=\"dataframe\">\n",
       "  <thead>\n",
       "    <tr style=\"text-align: right;\">\n",
       "      <th></th>\n",
       "      <th>Exited</th>\n",
       "      <th>count</th>\n",
       "      <th>%</th>\n",
       "    </tr>\n",
       "  </thead>\n",
       "  <tbody>\n",
       "    <tr>\n",
       "      <th>0</th>\n",
       "      <td>0</td>\n",
       "      <td>7963</td>\n",
       "      <td>79.63</td>\n",
       "    </tr>\n",
       "    <tr>\n",
       "      <th>1</th>\n",
       "      <td>1</td>\n",
       "      <td>2037</td>\n",
       "      <td>20.37</td>\n",
       "    </tr>\n",
       "  </tbody>\n",
       "</table>\n",
       "</div>"
      ],
      "text/plain": [
       "   Exited  count      %\n",
       "0       0   7963  79.63\n",
       "1       1   2037  20.37"
      ]
     },
     "execution_count": 24,
     "metadata": {},
     "output_type": "execute_result"
    }
   ],
   "source": [
    "# check the number of labels\n",
    "label_count = data.groupby('Exited').size().to_frame('count').reset_index()\n",
    "label_count['%'] = label_count['count']/label_count['count'].sum()*100\n",
    "label_count"
   ]
  },
  {
   "cell_type": "code",
   "execution_count": 25,
   "metadata": {
    "execution": {
     "iopub.execute_input": "2024-06-07T10:35:18.046800Z",
     "iopub.status.busy": "2024-06-07T10:35:18.046562Z",
     "iopub.status.idle": "2024-06-07T10:35:18.060959Z",
     "shell.execute_reply": "2024-06-07T10:35:18.060041Z",
     "shell.execute_reply.started": "2024-06-07T10:35:18.046779Z"
    }
   },
   "outputs": [
    {
     "data": {
      "text/html": [
       "<div>\n",
       "<style scoped>\n",
       "    .dataframe tbody tr th:only-of-type {\n",
       "        vertical-align: middle;\n",
       "    }\n",
       "\n",
       "    .dataframe tbody tr th {\n",
       "        vertical-align: top;\n",
       "    }\n",
       "\n",
       "    .dataframe thead th {\n",
       "        text-align: right;\n",
       "    }\n",
       "</style>\n",
       "<table border=\"1\" class=\"dataframe\">\n",
       "  <thead>\n",
       "    <tr style=\"text-align: right;\">\n",
       "      <th></th>\n",
       "      <th>CreditScore</th>\n",
       "      <th>Geography</th>\n",
       "      <th>Gender</th>\n",
       "      <th>Age</th>\n",
       "      <th>Tenure</th>\n",
       "      <th>Balance</th>\n",
       "      <th>NumOfProducts</th>\n",
       "      <th>HasCrCard</th>\n",
       "      <th>IsActiveMember</th>\n",
       "      <th>EstimatedSalary</th>\n",
       "      <th>Exited</th>\n",
       "    </tr>\n",
       "  </thead>\n",
       "  <tbody>\n",
       "    <tr>\n",
       "      <th>0</th>\n",
       "      <td>619</td>\n",
       "      <td>France</td>\n",
       "      <td>Female</td>\n",
       "      <td>42</td>\n",
       "      <td>2</td>\n",
       "      <td>0.00</td>\n",
       "      <td>1</td>\n",
       "      <td>1</td>\n",
       "      <td>1</td>\n",
       "      <td>101348.88</td>\n",
       "      <td>1</td>\n",
       "    </tr>\n",
       "    <tr>\n",
       "      <th>1</th>\n",
       "      <td>608</td>\n",
       "      <td>Spain</td>\n",
       "      <td>Female</td>\n",
       "      <td>41</td>\n",
       "      <td>1</td>\n",
       "      <td>83807.86</td>\n",
       "      <td>1</td>\n",
       "      <td>0</td>\n",
       "      <td>1</td>\n",
       "      <td>112542.58</td>\n",
       "      <td>0</td>\n",
       "    </tr>\n",
       "    <tr>\n",
       "      <th>2</th>\n",
       "      <td>502</td>\n",
       "      <td>France</td>\n",
       "      <td>Female</td>\n",
       "      <td>42</td>\n",
       "      <td>8</td>\n",
       "      <td>159660.80</td>\n",
       "      <td>3</td>\n",
       "      <td>1</td>\n",
       "      <td>0</td>\n",
       "      <td>113931.57</td>\n",
       "      <td>1</td>\n",
       "    </tr>\n",
       "    <tr>\n",
       "      <th>3</th>\n",
       "      <td>699</td>\n",
       "      <td>France</td>\n",
       "      <td>Female</td>\n",
       "      <td>39</td>\n",
       "      <td>1</td>\n",
       "      <td>0.00</td>\n",
       "      <td>2</td>\n",
       "      <td>0</td>\n",
       "      <td>0</td>\n",
       "      <td>93826.63</td>\n",
       "      <td>0</td>\n",
       "    </tr>\n",
       "    <tr>\n",
       "      <th>4</th>\n",
       "      <td>850</td>\n",
       "      <td>Spain</td>\n",
       "      <td>Female</td>\n",
       "      <td>43</td>\n",
       "      <td>2</td>\n",
       "      <td>125510.82</td>\n",
       "      <td>1</td>\n",
       "      <td>1</td>\n",
       "      <td>1</td>\n",
       "      <td>79084.10</td>\n",
       "      <td>0</td>\n",
       "    </tr>\n",
       "  </tbody>\n",
       "</table>\n",
       "</div>"
      ],
      "text/plain": [
       "   CreditScore Geography  Gender  Age  Tenure    Balance  NumOfProducts  \\\n",
       "0          619    France  Female   42       2       0.00              1   \n",
       "1          608     Spain  Female   41       1   83807.86              1   \n",
       "2          502    France  Female   42       8  159660.80              3   \n",
       "3          699    France  Female   39       1       0.00              2   \n",
       "4          850     Spain  Female   43       2  125510.82              1   \n",
       "\n",
       "   HasCrCard  IsActiveMember  EstimatedSalary  Exited  \n",
       "0          1               1        101348.88       1  \n",
       "1          0               1        112542.58       0  \n",
       "2          1               0        113931.57       1  \n",
       "3          0               0         93826.63       0  \n",
       "4          1               1         79084.10       0  "
      ]
     },
     "execution_count": 25,
     "metadata": {},
     "output_type": "execute_result"
    }
   ],
   "source": [
    "# select the columns to be used in creating the model (features and label)\n",
    "input_data = data.drop(['CustomerId', 'Surname'], axis = 1)\n",
    "input_data.head()"
   ]
  },
  {
   "cell_type": "markdown",
   "metadata": {},
   "source": [
    "## Overview of Categorical variables"
   ]
  },
  {
   "cell_type": "code",
   "execution_count": 26,
   "metadata": {
    "execution": {
     "iopub.execute_input": "2024-06-07T10:35:18.067339Z",
     "iopub.status.busy": "2024-06-07T10:35:18.066447Z",
     "iopub.status.idle": "2024-06-07T10:35:19.362170Z",
     "shell.execute_reply": "2024-06-07T10:35:19.361255Z",
     "shell.execute_reply.started": "2024-06-07T10:35:18.067310Z"
    }
   },
   "outputs": [
    {
     "data": {
      "image/png": "[encoded data removed]",
      "text/plain": [
       "<Figure size 1558.88x1000 with 4 Axes>"
      ]
     },
     "metadata": {},
     "output_type": "display_data"
    }
   ],
   "source": [
    "categorical = input_data[['Geography', 'Gender', 'HasCrCard', 'IsActiveMember', 'Exited']]\n",
    "\n",
    "# count of category per variable\n",
    "val = categorical.melt(value_name = 'category', id_vars = 'Exited')\\\n",
    "    .groupby(['variable', 'category', 'Exited']).size().to_frame('count').reset_index()\n",
    "\n",
    "g = sns.catplot(\n",
    "    data=val, x='count', y='category', col='variable', hue = 'Exited', kind='bar', col_wrap=3,\n",
    "    orient = 'h', sharey = False\n",
    ")\n",
    "\n",
    "# show x-label for all facet\n",
    "for ax in g.axes.flatten():\n",
    "    ax.tick_params(labelbottom=True)\n",
    "    \n",
    "sns.move_legend(g, 'upper left')\n",
    "g.set(ylabel = None);"
   ]
  },
  {
   "cell_type": "markdown",
   "metadata": {},
   "source": [
    "## Overview of Numerical variables"
   ]
  },
  {
   "cell_type": "code",
   "execution_count": 27,
   "metadata": {
    "execution": {
     "iopub.execute_input": "2024-06-07T10:35:19.363914Z",
     "iopub.status.busy": "2024-06-07T10:35:19.363510Z",
     "iopub.status.idle": "2024-06-07T10:35:19.397383Z",
     "shell.execute_reply": "2024-06-07T10:35:19.396535Z",
     "shell.execute_reply.started": "2024-06-07T10:35:19.363880Z"
    }
   },
   "outputs": [
    {
     "data": {
      "text/html": [
       "<div>\n",
       "<style scoped>\n",
       "    .dataframe tbody tr th:only-of-type {\n",
       "        vertical-align: middle;\n",
       "    }\n",
       "\n",
       "    .dataframe tbody tr th {\n",
       "        vertical-align: top;\n",
       "    }\n",
       "\n",
       "    .dataframe thead th {\n",
       "        text-align: right;\n",
       "    }\n",
       "</style>\n",
       "<table border=\"1\" class=\"dataframe\">\n",
       "  <thead>\n",
       "    <tr style=\"text-align: right;\">\n",
       "      <th></th>\n",
       "      <th>CreditScore</th>\n",
       "      <th>Age</th>\n",
       "      <th>Tenure</th>\n",
       "      <th>Balance</th>\n",
       "      <th>NumOfProducts</th>\n",
       "      <th>HasCrCard</th>\n",
       "      <th>IsActiveMember</th>\n",
       "      <th>EstimatedSalary</th>\n",
       "      <th>Exited</th>\n",
       "    </tr>\n",
       "  </thead>\n",
       "  <tbody>\n",
       "    <tr>\n",
       "      <th>count</th>\n",
       "      <td>10000.000000</td>\n",
       "      <td>10000.000000</td>\n",
       "      <td>10000.000000</td>\n",
       "      <td>10000.000000</td>\n",
       "      <td>10000.000000</td>\n",
       "      <td>10000.00000</td>\n",
       "      <td>10000.000000</td>\n",
       "      <td>10000.000000</td>\n",
       "      <td>10000.000000</td>\n",
       "    </tr>\n",
       "    <tr>\n",
       "      <th>mean</th>\n",
       "      <td>650.528800</td>\n",
       "      <td>38.921800</td>\n",
       "      <td>5.012800</td>\n",
       "      <td>76485.889288</td>\n",
       "      <td>1.530200</td>\n",
       "      <td>0.70550</td>\n",
       "      <td>0.515100</td>\n",
       "      <td>100090.239881</td>\n",
       "      <td>0.203700</td>\n",
       "    </tr>\n",
       "    <tr>\n",
       "      <th>std</th>\n",
       "      <td>96.653299</td>\n",
       "      <td>10.487806</td>\n",
       "      <td>2.892174</td>\n",
       "      <td>62397.405202</td>\n",
       "      <td>0.581654</td>\n",
       "      <td>0.45584</td>\n",
       "      <td>0.499797</td>\n",
       "      <td>57510.492818</td>\n",
       "      <td>0.402769</td>\n",
       "    </tr>\n",
       "    <tr>\n",
       "      <th>min</th>\n",
       "      <td>350.000000</td>\n",
       "      <td>18.000000</td>\n",
       "      <td>0.000000</td>\n",
       "      <td>0.000000</td>\n",
       "      <td>1.000000</td>\n",
       "      <td>0.00000</td>\n",
       "      <td>0.000000</td>\n",
       "      <td>11.580000</td>\n",
       "      <td>0.000000</td>\n",
       "    </tr>\n",
       "    <tr>\n",
       "      <th>25%</th>\n",
       "      <td>584.000000</td>\n",
       "      <td>32.000000</td>\n",
       "      <td>3.000000</td>\n",
       "      <td>0.000000</td>\n",
       "      <td>1.000000</td>\n",
       "      <td>0.00000</td>\n",
       "      <td>0.000000</td>\n",
       "      <td>51002.110000</td>\n",
       "      <td>0.000000</td>\n",
       "    </tr>\n",
       "    <tr>\n",
       "      <th>50%</th>\n",
       "      <td>652.000000</td>\n",
       "      <td>37.000000</td>\n",
       "      <td>5.000000</td>\n",
       "      <td>97198.540000</td>\n",
       "      <td>1.000000</td>\n",
       "      <td>1.00000</td>\n",
       "      <td>1.000000</td>\n",
       "      <td>100193.915000</td>\n",
       "      <td>0.000000</td>\n",
       "    </tr>\n",
       "    <tr>\n",
       "      <th>75%</th>\n",
       "      <td>718.000000</td>\n",
       "      <td>44.000000</td>\n",
       "      <td>7.000000</td>\n",
       "      <td>127644.240000</td>\n",
       "      <td>2.000000</td>\n",
       "      <td>1.00000</td>\n",
       "      <td>1.000000</td>\n",
       "      <td>149388.247500</td>\n",
       "      <td>0.000000</td>\n",
       "    </tr>\n",
       "    <tr>\n",
       "      <th>max</th>\n",
       "      <td>850.000000</td>\n",
       "      <td>92.000000</td>\n",
       "      <td>10.000000</td>\n",
       "      <td>250898.090000</td>\n",
       "      <td>4.000000</td>\n",
       "      <td>1.00000</td>\n",
       "      <td>1.000000</td>\n",
       "      <td>199992.480000</td>\n",
       "      <td>1.000000</td>\n",
       "    </tr>\n",
       "  </tbody>\n",
       "</table>\n",
       "</div>"
      ],
      "text/plain": [
       "        CreditScore           Age        Tenure        Balance  NumOfProducts  \\\n",
       "count  10000.000000  10000.000000  10000.000000   10000.000000   10000.000000   \n",
       "mean     650.528800     38.921800      5.012800   76485.889288       1.530200   \n",
       "std       96.653299     10.487806      2.892174   62397.405202       0.581654   \n",
       "min      350.000000     18.000000      0.000000       0.000000       1.000000   \n",
       "25%      584.000000     32.000000      3.000000       0.000000       1.000000   \n",
       "50%      652.000000     37.000000      5.000000   97198.540000       1.000000   \n",
       "75%      718.000000     44.000000      7.000000  127644.240000       2.000000   \n",
       "max      850.000000     92.000000     10.000000  250898.090000       4.000000   \n",
       "\n",
       "         HasCrCard  IsActiveMember  EstimatedSalary        Exited  \n",
       "count  10000.00000    10000.000000     10000.000000  10000.000000  \n",
       "mean       0.70550        0.515100    100090.239881      0.203700  \n",
       "std        0.45584        0.499797     57510.492818      0.402769  \n",
       "min        0.00000        0.000000        11.580000      0.000000  \n",
       "25%        0.00000        0.000000     51002.110000      0.000000  \n",
       "50%        1.00000        1.000000    100193.915000      0.000000  \n",
       "75%        1.00000        1.000000    149388.247500      0.000000  \n",
       "max        1.00000        1.000000    199992.480000      1.000000  "
      ]
     },
     "execution_count": 27,
     "metadata": {},
     "output_type": "execute_result"
    }
   ],
   "source": [
    "input_data.describe()"
   ]
  },
  {
   "cell_type": "code",
   "execution_count": 28,
   "metadata": {
    "execution": {
     "iopub.execute_input": "2024-06-07T10:35:19.398530Z",
     "iopub.status.busy": "2024-06-07T10:35:19.398270Z",
     "iopub.status.idle": "2024-06-07T10:35:21.778994Z",
     "shell.execute_reply": "2024-06-07T10:35:21.778041Z",
     "shell.execute_reply.started": "2024-06-07T10:35:19.398508Z"
    }
   },
   "outputs": [
    {
     "data": {
      "image/png": "[encoded data removed]",
      "text/plain": [
       "<Figure size 1558.88x1000 with 6 Axes>"
      ]
     },
     "metadata": {},
     "output_type": "display_data"
    }
   ],
   "source": [
    "exclude = categorical.columns.tolist().remove('Exited')\n",
    "exclude\n",
    "\n",
    "num_df = input_data.drop(categorical, axis = 1)\n",
    "\n",
    "val = pd.concat([data['Exited'], num_df], axis = 1)\\\n",
    "    .melt(value_name = 'value', id_vars = 'Exited')\n",
    "\n",
    "# compare the distribution of numeric features based on exit\n",
    "g = sns.catplot(\n",
    "    data=val, x='value', y='variable', hue='Exited', hue_order = [0, 1],\n",
    "    kind='violin', bw=.25, cut=0, split=True, col = 'variable', col_wrap = 3,\n",
    "    sharey = False, sharex = False\n",
    ")\n",
    "g.set(ylabel=None)\n",
    "sns.move_legend(g, 'upper left');"
   ]
  },
  {
   "cell_type": "markdown",
   "metadata": {},
   "source": [
    "# One hot encoding\n",
    "One hot encode Gender and Geography"
   ]
  },
  {
   "cell_type": "code",
   "execution_count": 29,
   "metadata": {
    "execution": {
     "iopub.execute_input": "2024-06-07T10:35:21.780653Z",
     "iopub.status.busy": "2024-06-07T10:35:21.780251Z",
     "iopub.status.idle": "2024-06-07T10:35:21.797294Z",
     "shell.execute_reply": "2024-06-07T10:35:21.796562Z",
     "shell.execute_reply.started": "2024-06-07T10:35:21.780625Z"
    }
   },
   "outputs": [],
   "source": [
    "encoder = OneHotEncoder(sparse_output = False, drop = 'if_binary')\n",
    "one_hot_encoded = encoder.fit_transform(input_data[['Gender', 'Geography']])\n",
    "one_hot_encoded_df = pd.DataFrame(one_hot_encoded, columns = encoder.get_feature_names_out())"
   ]
  },
  {
   "cell_type": "code",
   "execution_count": 30,
   "metadata": {
    "execution": {
     "iopub.execute_input": "2024-06-07T10:35:21.798776Z",
     "iopub.status.busy": "2024-06-07T10:35:21.798493Z",
     "iopub.status.idle": "2024-06-07T10:35:21.824081Z",
     "shell.execute_reply": "2024-06-07T10:35:21.823245Z",
     "shell.execute_reply.started": "2024-06-07T10:35:21.798751Z"
    }
   },
   "outputs": [
    {
     "data": {
      "text/html": [
       "<div>\n",
       "<style scoped>\n",
       "    .dataframe tbody tr th:only-of-type {\n",
       "        vertical-align: middle;\n",
       "    }\n",
       "\n",
       "    .dataframe tbody tr th {\n",
       "        vertical-align: top;\n",
       "    }\n",
       "\n",
       "    .dataframe thead th {\n",
       "        text-align: right;\n",
       "    }\n",
       "</style>\n",
       "<table border=\"1\" class=\"dataframe\">\n",
       "  <thead>\n",
       "    <tr style=\"text-align: right;\">\n",
       "      <th></th>\n",
       "      <th>CreditScore</th>\n",
       "      <th>Age</th>\n",
       "      <th>Tenure</th>\n",
       "      <th>Balance</th>\n",
       "      <th>NumOfProducts</th>\n",
       "      <th>HasCrCard</th>\n",
       "      <th>IsActiveMember</th>\n",
       "      <th>EstimatedSalary</th>\n",
       "      <th>Exited</th>\n",
       "      <th>Gender_Male</th>\n",
       "      <th>Geography_France</th>\n",
       "      <th>Geography_Germany</th>\n",
       "      <th>Geography_Spain</th>\n",
       "    </tr>\n",
       "  </thead>\n",
       "  <tbody>\n",
       "    <tr>\n",
       "      <th>0</th>\n",
       "      <td>619</td>\n",
       "      <td>42</td>\n",
       "      <td>2</td>\n",
       "      <td>0.00</td>\n",
       "      <td>1</td>\n",
       "      <td>1</td>\n",
       "      <td>1</td>\n",
       "      <td>101348.88</td>\n",
       "      <td>1</td>\n",
       "      <td>0.0</td>\n",
       "      <td>1.0</td>\n",
       "      <td>0.0</td>\n",
       "      <td>0.0</td>\n",
       "    </tr>\n",
       "    <tr>\n",
       "      <th>1</th>\n",
       "      <td>608</td>\n",
       "      <td>41</td>\n",
       "      <td>1</td>\n",
       "      <td>83807.86</td>\n",
       "      <td>1</td>\n",
       "      <td>0</td>\n",
       "      <td>1</td>\n",
       "      <td>112542.58</td>\n",
       "      <td>0</td>\n",
       "      <td>0.0</td>\n",
       "      <td>0.0</td>\n",
       "      <td>0.0</td>\n",
       "      <td>1.0</td>\n",
       "    </tr>\n",
       "    <tr>\n",
       "      <th>2</th>\n",
       "      <td>502</td>\n",
       "      <td>42</td>\n",
       "      <td>8</td>\n",
       "      <td>159660.80</td>\n",
       "      <td>3</td>\n",
       "      <td>1</td>\n",
       "      <td>0</td>\n",
       "      <td>113931.57</td>\n",
       "      <td>1</td>\n",
       "      <td>0.0</td>\n",
       "      <td>1.0</td>\n",
       "      <td>0.0</td>\n",
       "      <td>0.0</td>\n",
       "    </tr>\n",
       "    <tr>\n",
       "      <th>3</th>\n",
       "      <td>699</td>\n",
       "      <td>39</td>\n",
       "      <td>1</td>\n",
       "      <td>0.00</td>\n",
       "      <td>2</td>\n",
       "      <td>0</td>\n",
       "      <td>0</td>\n",
       "      <td>93826.63</td>\n",
       "      <td>0</td>\n",
       "      <td>0.0</td>\n",
       "      <td>1.0</td>\n",
       "      <td>0.0</td>\n",
       "      <td>0.0</td>\n",
       "    </tr>\n",
       "    <tr>\n",
       "      <th>4</th>\n",
       "      <td>850</td>\n",
       "      <td>43</td>\n",
       "      <td>2</td>\n",
       "      <td>125510.82</td>\n",
       "      <td>1</td>\n",
       "      <td>1</td>\n",
       "      <td>1</td>\n",
       "      <td>79084.10</td>\n",
       "      <td>0</td>\n",
       "      <td>0.0</td>\n",
       "      <td>0.0</td>\n",
       "      <td>0.0</td>\n",
       "      <td>1.0</td>\n",
       "    </tr>\n",
       "    <tr>\n",
       "      <th>...</th>\n",
       "      <td>...</td>\n",
       "      <td>...</td>\n",
       "      <td>...</td>\n",
       "      <td>...</td>\n",
       "      <td>...</td>\n",
       "      <td>...</td>\n",
       "      <td>...</td>\n",
       "      <td>...</td>\n",
       "      <td>...</td>\n",
       "      <td>...</td>\n",
       "      <td>...</td>\n",
       "      <td>...</td>\n",
       "      <td>...</td>\n",
       "    </tr>\n",
       "    <tr>\n",
       "      <th>9995</th>\n",
       "      <td>771</td>\n",
       "      <td>39</td>\n",
       "      <td>5</td>\n",
       "      <td>0.00</td>\n",
       "      <td>2</td>\n",
       "      <td>1</td>\n",
       "      <td>0</td>\n",
       "      <td>96270.64</td>\n",
       "      <td>0</td>\n",
       "      <td>1.0</td>\n",
       "      <td>1.0</td>\n",
       "      <td>0.0</td>\n",
       "      <td>0.0</td>\n",
       "    </tr>\n",
       "    <tr>\n",
       "      <th>9996</th>\n",
       "      <td>516</td>\n",
       "      <td>35</td>\n",
       "      <td>10</td>\n",
       "      <td>57369.61</td>\n",
       "      <td>1</td>\n",
       "      <td>1</td>\n",
       "      <td>1</td>\n",
       "      <td>101699.77</td>\n",
       "      <td>0</td>\n",
       "      <td>1.0</td>\n",
       "      <td>1.0</td>\n",
       "      <td>0.0</td>\n",
       "      <td>0.0</td>\n",
       "    </tr>\n",
       "    <tr>\n",
       "      <th>9997</th>\n",
       "      <td>709</td>\n",
       "      <td>36</td>\n",
       "      <td>7</td>\n",
       "      <td>0.00</td>\n",
       "      <td>1</td>\n",
       "      <td>0</td>\n",
       "      <td>1</td>\n",
       "      <td>42085.58</td>\n",
       "      <td>1</td>\n",
       "      <td>0.0</td>\n",
       "      <td>1.0</td>\n",
       "      <td>0.0</td>\n",
       "      <td>0.0</td>\n",
       "    </tr>\n",
       "    <tr>\n",
       "      <th>9998</th>\n",
       "      <td>772</td>\n",
       "      <td>42</td>\n",
       "      <td>3</td>\n",
       "      <td>75075.31</td>\n",
       "      <td>2</td>\n",
       "      <td>1</td>\n",
       "      <td>0</td>\n",
       "      <td>92888.52</td>\n",
       "      <td>1</td>\n",
       "      <td>1.0</td>\n",
       "      <td>0.0</td>\n",
       "      <td>1.0</td>\n",
       "      <td>0.0</td>\n",
       "    </tr>\n",
       "    <tr>\n",
       "      <th>9999</th>\n",
       "      <td>792</td>\n",
       "      <td>28</td>\n",
       "      <td>4</td>\n",
       "      <td>130142.79</td>\n",
       "      <td>1</td>\n",
       "      <td>1</td>\n",
       "      <td>0</td>\n",
       "      <td>38190.78</td>\n",
       "      <td>0</td>\n",
       "      <td>0.0</td>\n",
       "      <td>1.0</td>\n",
       "      <td>0.0</td>\n",
       "      <td>0.0</td>\n",
       "    </tr>\n",
       "  </tbody>\n",
       "</table>\n",
       "<p>10000 rows × 13 columns</p>\n",
       "</div>"
      ],
      "text/plain": [
       "      CreditScore  Age  Tenure    Balance  NumOfProducts  HasCrCard  \\\n",
       "0             619   42       2       0.00              1          1   \n",
       "1             608   41       1   83807.86              1          0   \n",
       "2             502   42       8  159660.80              3          1   \n",
       "3             699   39       1       0.00              2          0   \n",
       "4             850   43       2  125510.82              1          1   \n",
       "...           ...  ...     ...        ...            ...        ...   \n",
       "9995          771   39       5       0.00              2          1   \n",
       "9996          516   35      10   57369.61              1          1   \n",
       "9997          709   36       7       0.00              1          0   \n",
       "9998          772   42       3   75075.31              2          1   \n",
       "9999          792   28       4  130142.79              1          1   \n",
       "\n",
       "      IsActiveMember  EstimatedSalary  Exited  Gender_Male  Geography_France  \\\n",
       "0                  1        101348.88       1          0.0               1.0   \n",
       "1                  1        112542.58       0          0.0               0.0   \n",
       "2                  0        113931.57       1          0.0               1.0   \n",
       "3                  0         93826.63       0          0.0               1.0   \n",
       "4                  1         79084.10       0          0.0               0.0   \n",
       "...              ...              ...     ...          ...               ...   \n",
       "9995               0         96270.64       0          1.0               1.0   \n",
       "9996               1        101699.77       0          1.0               1.0   \n",
       "9997               1         42085.58       1          0.0               1.0   \n",
       "9998               0         92888.52       1          1.0               0.0   \n",
       "9999               0         38190.78       0          0.0               1.0   \n",
       "\n",
       "      Geography_Germany  Geography_Spain  \n",
       "0                   0.0              0.0  \n",
       "1                   0.0              1.0  \n",
       "2                   0.0              0.0  \n",
       "3                   0.0              0.0  \n",
       "4                   0.0              1.0  \n",
       "...                 ...              ...  \n",
       "9995                0.0              0.0  \n",
       "9996                0.0              0.0  \n",
       "9997                0.0              0.0  \n",
       "9998                1.0              0.0  \n",
       "9999                0.0              0.0  \n",
       "\n",
       "[10000 rows x 13 columns]"
      ]
     },
     "execution_count": 30,
     "metadata": {},
     "output_type": "execute_result"
    }
   ],
   "source": [
    "input_data_v1 = input_data.drop(['Geography', 'Gender'], axis = 1)\n",
    "input_data_v1 = pd.concat([input_data_v1, one_hot_encoded_df], axis = 1)\n",
    "input_data_v1"
   ]
  },
  {
   "cell_type": "markdown",
   "metadata": {},
   "source": [
    "# Split the data"
   ]
  },
  {
   "cell_type": "code",
   "execution_count": 31,
   "metadata": {
    "execution": {
     "iopub.execute_input": "2024-06-07T10:35:21.825347Z",
     "iopub.status.busy": "2024-06-07T10:35:21.825071Z",
     "iopub.status.idle": "2024-06-07T10:35:21.838934Z",
     "shell.execute_reply": "2024-06-07T10:35:21.838089Z",
     "shell.execute_reply.started": "2024-06-07T10:35:21.825323Z"
    }
   },
   "outputs": [
    {
     "name": "stdout",
     "output_type": "stream",
     "text": [
      "Train Dataset -- feature: 8000 -- label: 8000\n",
      "Test Dataset -- feature: 2000 -- label: 2000\n"
     ]
    }
   ],
   "source": [
    "X = input_data_v1.drop('Exited', axis = 1)\n",
    "y = input_data_v1['Exited'].values\n",
    "\n",
    "X_train, X_test, y_train, y_test = train_test_split(X, y, test_size = 0.2,random_state = 50,\n",
    "                                                    shuffle = True, stratify = y)\n",
    "\n",
    "print(f'Train Dataset -- feature: {X_train.shape[0]} -- label: {y_train.shape[0]}')\n",
    "print(f'Test Dataset -- feature: {X_test.shape[0]} -- label: {y_test.shape[0]}')"
   ]
  },
  {
   "cell_type": "markdown",
   "metadata": {},
   "source": [
    "# Normalize the numeric variables"
   ]
  },
  {
   "cell_type": "code",
   "execution_count": 32,
   "metadata": {
    "execution": {
     "iopub.execute_input": "2024-06-07T10:35:21.840397Z",
     "iopub.status.busy": "2024-06-07T10:35:21.840106Z",
     "iopub.status.idle": "2024-06-07T10:35:21.855598Z",
     "shell.execute_reply": "2024-06-07T10:35:21.854784Z",
     "shell.execute_reply.started": "2024-06-07T10:35:21.840374Z"
    }
   },
   "outputs": [],
   "source": [
    "scaler = MinMaxScaler()\n",
    "\n",
    "# apply scaler to train data\n",
    "X_train_scaled = scaler.fit_transform(X_train[num_df.columns])\n",
    "X_train_scaled = pd.DataFrame(X_train_scaled, columns = num_df.columns, index = X_train.index)\n",
    "X_train_ = X_train.drop(num_df.columns, axis = 1)\n",
    "X_train_ = pd.concat([X_train_, X_train_scaled], axis = 1)\n",
    "\n",
    "# apply scaler to test data (separately apply with train data to avoid data leakage)\n",
    "X_test_scaled = scaler.transform(X_test[num_df.columns])\n",
    "X_test_scaled = pd.DataFrame(X_test_scaled, columns = num_df.columns, index = X_test.index)\n",
    "X_test_ = X_test.drop(num_df.columns, axis = 1)\n",
    "X_test_ = pd.concat([X_test_, X_test_scaled], axis = 1)"
   ]
  },
  {
   "cell_type": "markdown",
   "metadata": {},
   "source": [
    "# Convert datasets to tensor"
   ]
  },
  {
   "cell_type": "code",
   "execution_count": 33,
   "metadata": {
    "execution": {
     "iopub.execute_input": "2024-06-07T10:35:21.857559Z",
     "iopub.status.busy": "2024-06-07T10:35:21.856694Z",
     "iopub.status.idle": "2024-06-07T10:35:21.863893Z",
     "shell.execute_reply": "2024-06-07T10:35:21.863134Z",
     "shell.execute_reply.started": "2024-06-07T10:35:21.857510Z"
    }
   },
   "outputs": [],
   "source": [
    "X_train = torch.from_numpy(X_train_.values.astype(np.float32)).to(device)\n",
    "X_test = torch.from_numpy(X_test_.values.astype(np.float32)).to(device)\n",
    "y_train = torch.from_numpy(y_train.astype(np.float32)).to(device)\n",
    "y_test = torch.from_numpy(y_test.astype(np.float32)).to(device)"
   ]
  },
  {
   "cell_type": "markdown",
   "metadata": {},
   "source": [
    "# Create a model"
   ]
  },
  {
   "cell_type": "code",
   "execution_count": 34,
   "metadata": {
    "execution": {
     "iopub.execute_input": "2024-06-07T10:35:21.865230Z",
     "iopub.status.busy": "2024-06-07T10:35:21.864925Z",
     "iopub.status.idle": "2024-06-07T10:35:21.875988Z",
     "shell.execute_reply": "2024-06-07T10:35:21.875181Z",
     "shell.execute_reply.started": "2024-06-07T10:35:21.865206Z"
    }
   },
   "outputs": [],
   "source": [
    "class classifier(nn.Module):\n",
    "    def __init__(self, input_features = X_train.shape[1], hidden_units = 15,\n",
    "                 hidden_layers = 1, dropout = 0.05):\n",
    "        super().__init__()\n",
    "        layers = []\n",
    "        layers.append(nn.Linear(input_features, hidden_units))\n",
    "        layers.append(nn.ReLU())\n",
    "        for _ in range(hidden_layers):\n",
    "            layers.append(nn.Linear(hidden_units, hidden_units))\n",
    "            layers.append(nn.ReLU())\n",
    "            layers.append(nn.Dropout(dropout))\n",
    "        layers.append(nn.Linear(hidden_units, 1))\n",
    "        self.linear_layer_stack = nn.Sequential(*layers)\n",
    "    \n",
    "    def forward(self, x):\n",
    "        return self.linear_layer_stack(x)"
   ]
  },
  {
   "cell_type": "code",
   "execution_count": 35,
   "metadata": {
    "execution": {
     "iopub.execute_input": "2024-06-07T10:35:21.877383Z",
     "iopub.status.busy": "2024-06-07T10:35:21.877108Z",
     "iopub.status.idle": "2024-06-07T10:36:07.770495Z",
     "shell.execute_reply": "2024-06-07T10:36:07.769653Z",
     "shell.execute_reply.started": "2024-06-07T10:35:21.877360Z"
    }
   },
   "outputs": [
    {
     "name": "stderr",
     "output_type": "stream",
     "text": [
      "[I 2024-06-07 10:35:21,888] A new study created in memory with name: no-name-95aa7b96-fb4d-458b-8d71-561a0cf82a9c\n"
     ]
    },
    {
     "data": {
      "application/vnd.jupyter.widget-view+json": {
       "model_id": "4704a89abf714fbb88b1d590cd56f519",
       "version_major": 2,
       "version_minor": 0
      },
      "text/plain": [
       "  0%|          | 0/100 [00:00<?, ?it/s]"
      ]
     },
     "metadata": {},
     "output_type": "display_data"
    },
    {
     "name": "stdout",
     "output_type": "stream",
     "text": [
      "Test Dataset -- Accuracy: 0.80 -- F1 Score: 0.00\n",
      "[I 2024-06-07 10:35:22,149] Trial 0 finished with value: 0.0 and parameters: {'hidden_units': 10, 'lr': 0.0421263646561928, 'hidden_layers': 7, 'dropout': 0.6338701302321709, 'epochs': 56}. Best is trial 0 with value: 0.0.\n",
      "Test Dataset -- Accuracy: 0.80 -- F1 Score: 0.00\n",
      "[I 2024-06-07 10:35:22,496] Trial 1 finished with value: 0.0 and parameters: {'hidden_units': 14, 'lr': 0.08013900169671652, 'hidden_layers': 2, 'dropout': 0.2113050086884013, 'epochs': 72}. Best is trial 0 with value: 0.0.\n",
      "Test Dataset -- Accuracy: 0.80 -- F1 Score: 0.00\n",
      "[I 2024-06-07 10:35:22,806] Trial 2 finished with value: 0.0 and parameters: {'hidden_units': 36, 'lr': 0.021036455540803058, 'hidden_layers': 8, 'dropout': 0.5698063317646183, 'epochs': 24}. Best is trial 0 with value: 0.0.\n",
      "Test Dataset -- Accuracy: 0.80 -- F1 Score: 0.00\n",
      "[I 2024-06-07 10:35:23,041] Trial 3 finished with value: 0.0 and parameters: {'hidden_units': 47, 'lr': 0.014967854906891578, 'hidden_layers': 10, 'dropout': 0.4141503350341764, 'epochs': 12}. Best is trial 0 with value: 0.0.\n",
      "Test Dataset -- Accuracy: 0.80 -- F1 Score: 0.00\n",
      "[I 2024-06-07 10:35:23,634] Trial 4 finished with value: 0.0 and parameters: {'hidden_units': 5, 'lr': 0.08314077225927323, 'hidden_layers': 10, 'dropout': 0.226830905586798, 'epochs': 87}. Best is trial 0 with value: 0.0.\n",
      "Test Dataset -- Accuracy: 0.80 -- F1 Score: 0.00\n",
      "[I 2024-06-07 10:35:23,859] Trial 5 finished with value: 0.0 and parameters: {'hidden_units': 18, 'lr': 0.07303668974728168, 'hidden_layers': 6, 'dropout': 0.6552956208083731, 'epochs': 14}. Best is trial 0 with value: 0.0.\n",
      "Test Dataset -- Accuracy: 0.80 -- F1 Score: 0.00\n",
      "[I 2024-06-07 10:35:24,396] Trial 6 finished with value: 0.0 and parameters: {'hidden_units': 45, 'lr': 0.042068285064741626, 'hidden_layers': 5, 'dropout': 0.6034015729976979, 'epochs': 96}. Best is trial 0 with value: 0.0.\n",
      "Test Dataset -- Accuracy: 0.80 -- F1 Score: 0.00\n",
      "[I 2024-06-07 10:35:24,717] Trial 7 finished with value: 0.0 and parameters: {'hidden_units': 47, 'lr': 0.023892968454004522, 'hidden_layers': 3, 'dropout': 0.4252207708114857, 'epochs': 44}. Best is trial 0 with value: 0.0.\n",
      "Test Dataset -- Accuracy: 0.80 -- F1 Score: 0.00\n",
      "[I 2024-06-07 10:35:25,083] Trial 8 finished with value: 0.0 and parameters: {'hidden_units': 15, 'lr': 0.029276181367628763, 'hidden_layers': 7, 'dropout': 0.1589603232904606, 'epochs': 45}. Best is trial 0 with value: 0.0.\n",
      "Test Dataset -- Accuracy: 0.73 -- F1 Score: 0.11\n",
      "[I 2024-06-07 10:35:25,419] Trial 9 finished with value: 0.10801963993453356 and parameters: {'hidden_units': 27, 'lr': 0.0005019925045276118, 'hidden_layers': 8, 'dropout': 0.5962430460099639, 'epochs': 38}. Best is trial 9 with value: 0.10801963993453356.\n",
      "Test Dataset -- Accuracy: 0.80 -- F1 Score: 0.00\n",
      "[I 2024-06-07 10:35:25,734] Trial 10 finished with value: 0.0 and parameters: {'hidden_units': 28, 'lr': 0.061190483795007834, 'hidden_layers': 4, 'dropout': 0.7903185790026526, 'epochs': 31}. Best is trial 9 with value: 0.10801963993453356.\n",
      "Test Dataset -- Accuracy: 0.80 -- F1 Score: 0.00\n",
      "[I 2024-06-07 10:35:26,238] Trial 11 finished with value: 0.0 and parameters: {'hidden_units': 2, 'lr': 0.0011105113482768256, 'hidden_layers': 8, 'dropout': 0.751880369305958, 'epochs': 63}. Best is trial 9 with value: 0.10801963993453356.\n",
      "Test Dataset -- Accuracy: 0.80 -- F1 Score: 0.00\n",
      "[I 2024-06-07 10:35:26,748] Trial 12 finished with value: 0.0 and parameters: {'hidden_units': 27, 'lr': 0.04686839847508955, 'hidden_layers': 8, 'dropout': 0.5276533923918034, 'epochs': 64}. Best is trial 9 with value: 0.10801963993453356.\n",
      "Test Dataset -- Accuracy: 0.80 -- F1 Score: 0.00\n",
      "[I 2024-06-07 10:35:27,094] Trial 13 finished with value: 0.0 and parameters: {'hidden_units': 33, 'lr': 0.0966285539240246, 'hidden_layers': 6, 'dropout': 0.3438979311456828, 'epochs': 34}. Best is trial 9 with value: 0.10801963993453356.\n",
      "Test Dataset -- Accuracy: 0.70 -- F1 Score: 0.21\n",
      "[I 2024-06-07 10:35:27,563] Trial 14 finished with value: 0.20772303595206393 and parameters: {'hidden_units': 20, 'lr': 0.0001124613874483038, 'hidden_layers': 9, 'dropout': 0.6724109208183116, 'epochs': 55}. Best is trial 14 with value: 0.20772303595206393.\n",
      "Test Dataset -- Accuracy: 0.80 -- F1 Score: 0.00\n",
      "[I 2024-06-07 10:35:28,125] Trial 15 finished with value: 0.0 and parameters: {'hidden_units': 21, 'lr': 0.0015311118196335415, 'hidden_layers': 9, 'dropout': 0.6937972780923858, 'epochs': 77}. Best is trial 14 with value: 0.20772303595206393.\n",
      "Test Dataset -- Accuracy: 0.71 -- F1 Score: 0.13\n",
      "[I 2024-06-07 10:35:28,345] Trial 16 finished with value: 0.13313161875945537 and parameters: {'hidden_units': 37, 'lr': 0.011359999104309357, 'hidden_layers': 9, 'dropout': 0.5121606480907988, 'epochs': 1}. Best is trial 14 with value: 0.20772303595206393.\n",
      "Test Dataset -- Accuracy: 0.20 -- F1 Score: 0.34\n",
      "[I 2024-06-07 10:35:28,552] Trial 17 finished with value: 0.3383208645054031 and parameters: {'hidden_units': 37, 'lr': 0.010658313830586076, 'hidden_layers': 1, 'dropout': 0.3442200688460111, 'epochs': 1}. Best is trial 17 with value: 0.3383208645054031.\n",
      "Test Dataset -- Accuracy: 0.81 -- F1 Score: 0.30\n",
      "[I 2024-06-07 10:35:28,861] Trial 18 finished with value: 0.2987249544626594 and parameters: {'hidden_units': 42, 'lr': 0.02977950728446399, 'hidden_layers': 1, 'dropout': 0.3313120228777629, 'epochs': 51}. Best is trial 17 with value: 0.3383208645054031.\n",
      "Test Dataset -- Accuracy: 0.80 -- F1 Score: 0.00\n",
      "[I 2024-06-07 10:35:29,057] Trial 19 finished with value: 0.0 and parameters: {'hidden_units': 42, 'lr': 0.03294545917444562, 'hidden_layers': 1, 'dropout': 0.3467696108305964, 'epochs': 1}. Best is trial 17 with value: 0.3383208645054031.\n",
      "Test Dataset -- Accuracy: 0.80 -- F1 Score: 0.00\n",
      "[I 2024-06-07 10:35:29,295] Trial 20 finished with value: 0.0 and parameters: {'hidden_units': 41, 'lr': 0.056128874260821235, 'hidden_layers': 1, 'dropout': 0.3089240913134408, 'epochs': 23}. Best is trial 17 with value: 0.3383208645054031.\n",
      "Test Dataset -- Accuracy: 0.80 -- F1 Score: 0.00\n",
      "[I 2024-06-07 10:35:29,623] Trial 21 finished with value: 0.0 and parameters: {'hidden_units': 31, 'lr': 0.011551414726674186, 'hidden_layers': 3, 'dropout': 0.2852802138269571, 'epochs': 52}. Best is trial 17 with value: 0.3383208645054031.\n",
      "Test Dataset -- Accuracy: 0.80 -- F1 Score: 0.00\n",
      "[I 2024-06-07 10:35:29,961] Trial 22 finished with value: 0.0 and parameters: {'hidden_units': 24, 'lr': 0.03225506052864925, 'hidden_layers': 2, 'dropout': 0.39042516509333275, 'epochs': 59}. Best is trial 17 with value: 0.3383208645054031.\n",
      "Test Dataset -- Accuracy: 0.82 -- F1 Score: 0.33\n",
      "[I 2024-06-07 10:35:30,338] Trial 23 finished with value: 0.32629558541266795 and parameters: {'hidden_units': 39, 'lr': 0.012031605233731356, 'hidden_layers': 2, 'dropout': 0.5034961470667103, 'epochs': 72}. Best is trial 17 with value: 0.3383208645054031.\n",
      "Test Dataset -- Accuracy: 0.83 -- F1 Score: 0.38\n",
      "[I 2024-06-07 10:35:30,734] Trial 24 finished with value: 0.3770794824399261 and parameters: {'hidden_units': 50, 'lr': 0.01807632298765592, 'hidden_layers': 2, 'dropout': 0.5039095302750866, 'epochs': 78}. Best is trial 24 with value: 0.3770794824399261.\n",
      "Test Dataset -- Accuracy: 0.82 -- F1 Score: 0.34\n",
      "[I 2024-06-07 10:35:31,131] Trial 25 finished with value: 0.3364485981308411 and parameters: {'hidden_units': 38, 'lr': 0.016487688765667266, 'hidden_layers': 2, 'dropout': 0.4792849048134997, 'epochs': 78}. Best is trial 24 with value: 0.3770794824399261.\n",
      "Test Dataset -- Accuracy: 0.80 -- F1 Score: 0.00\n",
      "[I 2024-06-07 10:35:31,570] Trial 26 finished with value: 0.0 and parameters: {'hidden_units': 33, 'lr': 0.019610909788179913, 'hidden_layers': 3, 'dropout': 0.4624331354310652, 'epochs': 85}. Best is trial 24 with value: 0.3770794824399261.\n",
      "Test Dataset -- Accuracy: 0.80 -- F1 Score: 0.00\n",
      "[I 2024-06-07 10:35:32,061] Trial 27 finished with value: 0.0 and parameters: {'hidden_units': 48, 'lr': 0.00835494214849876, 'hidden_layers': 4, 'dropout': 0.4673179047564305, 'epochs': 92}. Best is trial 24 with value: 0.3770794824399261.\n",
      "Test Dataset -- Accuracy: 0.80 -- F1 Score: 0.00\n",
      "[I 2024-06-07 10:35:32,452] Trial 28 finished with value: 0.0 and parameters: {'hidden_units': 50, 'lr': 0.03672267198015157, 'hidden_layers': 2, 'dropout': 0.38213320272217016, 'epochs': 81}. Best is trial 24 with value: 0.3770794824399261.\n",
      "Test Dataset -- Accuracy: 0.85 -- F1 Score: 0.50\n",
      "[I 2024-06-07 10:35:32,996] Trial 29 finished with value: 0.49915682967959535 and parameters: {'hidden_units': 44, 'lr': 0.026292944844487007, 'hidden_layers': 4, 'dropout': 0.10316036695127323, 'epochs': 100}. Best is trial 29 with value: 0.49915682967959535.\n",
      "Test Dataset -- Accuracy: 0.86 -- F1 Score: 0.57\n",
      "[I 2024-06-07 10:35:33,500] Trial 30 finished with value: 0.5679758308157099 and parameters: {'hidden_units': 44, 'lr': 0.025486912598086445, 'hidden_layers': 4, 'dropout': 0.10903331863571866, 'epochs': 100}. Best is trial 30 with value: 0.5679758308157099.\n",
      "Test Dataset -- Accuracy: 0.85 -- F1 Score: 0.56\n",
      "[I 2024-06-07 10:35:34,004] Trial 31 finished with value: 0.5555555555555555 and parameters: {'hidden_units': 44, 'lr': 0.02511350548101897, 'hidden_layers': 4, 'dropout': 0.1146374163880769, 'epochs': 96}. Best is trial 30 with value: 0.5679758308157099.\n",
      "Test Dataset -- Accuracy: 0.80 -- F1 Score: 0.00\n",
      "[I 2024-06-07 10:35:34,520] Trial 32 finished with value: 0.0 and parameters: {'hidden_units': 50, 'lr': 0.04007401451747848, 'hidden_layers': 4, 'dropout': 0.10501028425984216, 'epochs': 100}. Best is trial 30 with value: 0.5679758308157099.\n",
      "Test Dataset -- Accuracy: 0.85 -- F1 Score: 0.57\n",
      "[I 2024-06-07 10:35:35,039] Trial 33 finished with value: 0.5689655172413793 and parameters: {'hidden_units': 44, 'lr': 0.022911571897324588, 'hidden_layers': 5, 'dropout': 0.11102193490857754, 'epochs': 92}. Best is trial 33 with value: 0.5689655172413793.\n",
      "Test Dataset -- Accuracy: 0.83 -- F1 Score: 0.41\n",
      "[I 2024-06-07 10:35:35,544] Trial 34 finished with value: 0.411663807890223 and parameters: {'hidden_units': 44, 'lr': 0.024638493204960952, 'hidden_layers': 5, 'dropout': 0.10040202277620007, 'epochs': 91}. Best is trial 33 with value: 0.5689655172413793.\n",
      "Test Dataset -- Accuracy: 0.80 -- F1 Score: 0.00\n",
      "[I 2024-06-07 10:35:36,086] Trial 35 finished with value: 0.0 and parameters: {'hidden_units': 45, 'lr': 0.048652500833687704, 'hidden_layers': 5, 'dropout': 0.1695962292035476, 'epochs': 98}. Best is trial 33 with value: 0.5689655172413793.\n",
      "Test Dataset -- Accuracy: 0.80 -- F1 Score: 0.12\n",
      "[I 2024-06-07 10:35:36,574] Trial 36 finished with value: 0.11713665943600865 and parameters: {'hidden_units': 40, 'lr': 0.024216328435684536, 'hidden_layers': 4, 'dropout': 0.24258510873655467, 'epochs': 92}. Best is trial 33 with value: 0.5689655172413793.\n",
      "Test Dataset -- Accuracy: 0.80 -- F1 Score: 0.00\n",
      "[I 2024-06-07 10:35:37,104] Trial 37 finished with value: 0.0 and parameters: {'hidden_units': 44, 'lr': 0.03652076367048833, 'hidden_layers': 6, 'dropout': 0.15231628558676757, 'epochs': 87}. Best is trial 33 with value: 0.5689655172413793.\n",
      "Test Dataset -- Accuracy: 0.80 -- F1 Score: 0.16\n",
      "[I 2024-06-07 10:35:37,626] Trial 38 finished with value: 0.15517241379310345 and parameters: {'hidden_units': 35, 'lr': 0.05515763118122109, 'hidden_layers': 5, 'dropout': 0.19650507416987467, 'epochs': 94}. Best is trial 33 with value: 0.5689655172413793.\n",
      "Test Dataset -- Accuracy: 0.80 -- F1 Score: 0.00\n",
      "[I 2024-06-07 10:35:38,057] Trial 39 finished with value: 0.0 and parameters: {'hidden_units': 9, 'lr': 0.026488816745516754, 'hidden_layers': 3, 'dropout': 0.25717913945255194, 'epochs': 85}. Best is trial 33 with value: 0.5689655172413793.\n",
      "Test Dataset -- Accuracy: 0.80 -- F1 Score: 0.00\n",
      "[I 2024-06-07 10:35:38,561] Trial 40 finished with value: 0.0 and parameters: {'hidden_units': 47, 'lr': 0.06782812342041254, 'hidden_layers': 4, 'dropout': 0.13003909850212625, 'epochs': 100}. Best is trial 33 with value: 0.5689655172413793.\n",
      "Test Dataset -- Accuracy: 0.86 -- F1 Score: 0.56\n",
      "[I 2024-06-07 10:35:39,070] Trial 41 finished with value: 0.564885496183206 and parameters: {'hidden_units': 44, 'lr': 0.022417785973932614, 'hidden_layers': 5, 'dropout': 0.10089295960161364, 'epochs': 91}. Best is trial 33 with value: 0.5689655172413793.\n",
      "Test Dataset -- Accuracy: 0.80 -- F1 Score: 0.00\n",
      "[I 2024-06-07 10:35:39,539] Trial 42 finished with value: 0.0 and parameters: {'hidden_units': 44, 'lr': 0.021197199262494505, 'hidden_layers': 6, 'dropout': 0.20190232921370077, 'epochs': 72}. Best is trial 33 with value: 0.5689655172413793.\n",
      "Test Dataset -- Accuracy: 0.80 -- F1 Score: 0.00\n",
      "[I 2024-06-07 10:35:40,055] Trial 43 finished with value: 0.0 and parameters: {'hidden_units': 46, 'lr': 0.043301940283114584, 'hidden_layers': 5, 'dropout': 0.1332450858739921, 'epochs': 95}. Best is trial 33 with value: 0.5689655172413793.\n",
      "Test Dataset -- Accuracy: 0.80 -- F1 Score: 0.00\n",
      "[I 2024-06-07 10:35:40,624] Trial 44 finished with value: 0.0 and parameters: {'hidden_units': 42, 'lr': 0.03692451042525546, 'hidden_layers': 7, 'dropout': 0.20143416995091412, 'epochs': 89}. Best is trial 33 with value: 0.5689655172413793.\n",
      "Test Dataset -- Accuracy: 0.80 -- F1 Score: 0.00\n",
      "[I 2024-06-07 10:35:41,072] Trial 45 finished with value: 0.0 and parameters: {'hidden_units': 48, 'lr': 0.0284932211737402, 'hidden_layers': 4, 'dropout': 0.1744474547364504, 'epochs': 82}. Best is trial 33 with value: 0.5689655172413793.\n",
      "Test Dataset -- Accuracy: 0.83 -- F1 Score: 0.40\n",
      "[I 2024-06-07 10:35:41,550] Trial 46 finished with value: 0.3979238754325259 and parameters: {'hidden_units': 34, 'lr': 0.006446682990837886, 'hidden_layers': 3, 'dropout': 0.12622177039966392, 'epochs': 100}. Best is trial 33 with value: 0.5689655172413793.\n",
      "Test Dataset -- Accuracy: 0.85 -- F1 Score: 0.51\n",
      "[I 2024-06-07 10:35:42,116] Trial 47 finished with value: 0.5124792013311148 and parameters: {'hidden_units': 41, 'lr': 0.015148646258662387, 'hidden_layers': 6, 'dropout': 0.1448419828982203, 'epochs': 96}. Best is trial 33 with value: 0.5689655172413793.\n",
      "Test Dataset -- Accuracy: 0.84 -- F1 Score: 0.48\n",
      "[I 2024-06-07 10:35:42,724] Trial 48 finished with value: 0.4815409309791332 and parameters: {'hidden_units': 40, 'lr': 0.015498874873568668, 'hidden_layers': 7, 'dropout': 0.22744633169039497, 'epochs': 94}. Best is trial 33 with value: 0.5689655172413793.\n",
      "Test Dataset -- Accuracy: 0.80 -- F1 Score: 0.00\n",
      "[I 2024-06-07 10:35:43,227] Trial 49 finished with value: 0.0 and parameters: {'hidden_units': 30, 'lr': 0.020888325925263174, 'hidden_layers': 7, 'dropout': 0.155079604787637, 'epochs': 72}. Best is trial 33 with value: 0.5689655172413793.\n",
      "Test Dataset -- Accuracy: 0.80 -- F1 Score: 0.00\n",
      "[I 2024-06-07 10:35:43,658] Trial 50 finished with value: 0.0 and parameters: {'hidden_units': 36, 'lr': 0.0055174865081516235, 'hidden_layers': 5, 'dropout': 0.26803857495447947, 'epochs': 67}. Best is trial 33 with value: 0.5689655172413793.\n",
      "Test Dataset -- Accuracy: 0.85 -- F1 Score: 0.45\n",
      "[I 2024-06-07 10:35:44,230] Trial 51 finished with value: 0.4472271914132379 and parameters: {'hidden_units': 43, 'lr': 0.032309814535796594, 'hidden_layers': 6, 'dropout': 0.10329468629241131, 'epochs': 97}. Best is trial 33 with value: 0.5689655172413793.\n",
      "Test Dataset -- Accuracy: 0.85 -- F1 Score: 0.49\n",
      "[I 2024-06-07 10:35:44,704] Trial 52 finished with value: 0.4941569282136895 and parameters: {'hidden_units': 47, 'lr': 0.022960328652354214, 'hidden_layers': 4, 'dropout': 0.13775844379764174, 'epochs': 89}. Best is trial 33 with value: 0.5689655172413793.\n",
      "Test Dataset -- Accuracy: 0.80 -- F1 Score: 0.00\n",
      "[I 2024-06-07 10:35:45,219] Trial 53 finished with value: 0.0 and parameters: {'hidden_units': 39, 'lr': 0.015609489932968745, 'hidden_layers': 6, 'dropout': 0.18137854782580215, 'epochs': 83}. Best is trial 33 with value: 0.5689655172413793.\n",
      "Test Dataset -- Accuracy: 0.80 -- F1 Score: 0.00\n",
      "[I 2024-06-07 10:35:45,742] Trial 54 finished with value: 0.0 and parameters: {'hidden_units': 45, 'lr': 0.02740721167450217, 'hidden_layers': 5, 'dropout': 0.11882697194853739, 'epochs': 95}. Best is trial 33 with value: 0.5689655172413793.\n",
      "Test Dataset -- Accuracy: 0.84 -- F1 Score: 0.53\n",
      "[I 2024-06-07 10:35:46,216] Trial 55 finished with value: 0.532934131736527 and parameters: {'hidden_units': 42, 'lr': 0.018748003736348343, 'hidden_layers': 4, 'dropout': 0.14747989102327635, 'epochs': 88}. Best is trial 33 with value: 0.5689655172413793.\n",
      "Test Dataset -- Accuracy: 0.80 -- F1 Score: 0.00\n",
      "[I 2024-06-07 10:35:46,660] Trial 56 finished with value: 0.0 and parameters: {'hidden_units': 41, 'lr': 0.012914544259013224, 'hidden_layers': 3, 'dropout': 0.15420487688736784, 'epochs': 88}. Best is trial 33 with value: 0.5689655172413793.\n",
      "Test Dataset -- Accuracy: 0.81 -- F1 Score: 0.33\n",
      "[I 2024-06-07 10:35:47,174] Trial 57 finished with value: 0.3339191564147628 and parameters: {'hidden_units': 38, 'lr': 0.019051872594459323, 'hidden_layers': 5, 'dropout': 0.18261845843226482, 'epochs': 91}. Best is trial 33 with value: 0.5689655172413793.\n",
      "Test Dataset -- Accuracy: 0.80 -- F1 Score: 0.00\n",
      "[I 2024-06-07 10:35:47,678] Trial 58 finished with value: 0.0 and parameters: {'hidden_units': 14, 'lr': 0.005293489606624555, 'hidden_layers': 6, 'dropout': 0.13995594677956036, 'epochs': 75}. Best is trial 33 with value: 0.5689655172413793.\n",
      "Test Dataset -- Accuracy: 0.80 -- F1 Score: 0.00\n",
      "[I 2024-06-07 10:35:48,140] Trial 59 finished with value: 0.0 and parameters: {'hidden_units': 48, 'lr': 0.030612233199280057, 'hidden_layers': 4, 'dropout': 0.22429918789799164, 'epochs': 81}. Best is trial 33 with value: 0.5689655172413793.\n",
      "Test Dataset -- Accuracy: 0.80 -- F1 Score: 0.04\n",
      "[I 2024-06-07 10:35:48,701] Trial 60 finished with value: 0.038186157517899756 and parameters: {'hidden_units': 42, 'lr': 0.00967578840474807, 'hidden_layers': 7, 'dropout': 0.1696670654962424, 'epochs': 87}. Best is trial 33 with value: 0.5689655172413793.\n",
      "Test Dataset -- Accuracy: 0.85 -- F1 Score: 0.56\n",
      "[I 2024-06-07 10:35:49,199] Trial 61 finished with value: 0.564179104477612 and parameters: {'hidden_units': 46, 'lr': 0.02600845768259713, 'hidden_layers': 4, 'dropout': 0.10336167079339459, 'epochs': 97}. Best is trial 33 with value: 0.5689655172413793.\n",
      "Test Dataset -- Accuracy: 0.80 -- F1 Score: 0.00\n",
      "[I 2024-06-07 10:35:49,686] Trial 62 finished with value: 0.0 and parameters: {'hidden_units': 46, 'lr': 0.022000575914185486, 'hidden_layers': 4, 'dropout': 0.1194851223534473, 'epochs': 94}. Best is trial 33 with value: 0.5689655172413793.\n",
      "Test Dataset -- Accuracy: 0.85 -- F1 Score: 0.52\n",
      "[I 2024-06-07 10:35:50,231] Trial 63 finished with value: 0.5234248788368336 and parameters: {'hidden_units': 49, 'lr': 0.017390964543643028, 'hidden_layers': 5, 'dropout': 0.15030829590680952, 'epochs': 96}. Best is trial 33 with value: 0.5689655172413793.\n",
      "Test Dataset -- Accuracy: 0.83 -- F1 Score: 0.35\n",
      "[I 2024-06-07 10:35:50,729] Trial 64 finished with value: 0.3500931098696462 and parameters: {'hidden_units': 49, 'lr': 0.03383582848184131, 'hidden_layers': 5, 'dropout': 0.20910598645417472, 'epochs': 85}. Best is trial 33 with value: 0.5689655172413793.\n",
      "Test Dataset -- Accuracy: 0.85 -- F1 Score: 0.53\n",
      "[I 2024-06-07 10:35:51,182] Trial 65 finished with value: 0.5276872964169381 and parameters: {'hidden_units': 46, 'lr': 0.01852291822941088, 'hidden_layers': 3, 'dropout': 0.11527895482128812, 'epochs': 91}. Best is trial 33 with value: 0.5689655172413793.\n",
      "Test Dataset -- Accuracy: 0.85 -- F1 Score: 0.54\n",
      "[I 2024-06-07 10:35:51,637] Trial 66 finished with value: 0.5365853658536586 and parameters: {'hidden_units': 46, 'lr': 0.029391596247155663, 'hidden_layers': 3, 'dropout': 0.12218881929732758, 'epochs': 91}. Best is trial 33 with value: 0.5689655172413793.\n",
      "Test Dataset -- Accuracy: 0.80 -- F1 Score: 0.00\n",
      "[I 2024-06-07 10:35:51,971] Trial 67 finished with value: 0.0 and parameters: {'hidden_units': 43, 'lr': 0.02906485449719724, 'hidden_layers': 3, 'dropout': 0.5757474436171492, 'epochs': 43}. Best is trial 33 with value: 0.5689655172413793.\n",
      "Test Dataset -- Accuracy: 0.80 -- F1 Score: 0.00\n",
      "[I 2024-06-07 10:35:52,272] Trial 68 finished with value: 0.0 and parameters: {'hidden_units': 46, 'lr': 0.043904819632893596, 'hidden_layers': 4, 'dropout': 0.18819735996128698, 'epochs': 22}. Best is trial 33 with value: 0.5689655172413793.\n",
      "Test Dataset -- Accuracy: 0.81 -- F1 Score: 0.21\n",
      "[I 2024-06-07 10:35:52,692] Trial 69 finished with value: 0.20876826722338204 and parameters: {'hidden_units': 43, 'lr': 0.039766427018045135, 'hidden_layers': 3, 'dropout': 0.22858872782979395, 'epochs': 77}. Best is trial 33 with value: 0.5689655172413793.\n",
      "Test Dataset -- Accuracy: 0.86 -- F1 Score: 0.56\n",
      "[I 2024-06-07 10:35:53,214] Trial 70 finished with value: 0.5634674922600619 and parameters: {'hidden_units': 40, 'lr': 0.024924885991003926, 'hidden_layers': 4, 'dropout': 0.10025325561292552, 'epochs': 98}. Best is trial 33 with value: 0.5689655172413793.\n",
      "Test Dataset -- Accuracy: 0.80 -- F1 Score: 0.00\n",
      "[I 2024-06-07 10:35:53,716] Trial 71 finished with value: 0.0 and parameters: {'hidden_units': 39, 'lr': 0.09005624349449387, 'hidden_layers': 4, 'dropout': 0.11384178812426483, 'epochs': 98}. Best is trial 33 with value: 0.5689655172413793.\n",
      "Test Dataset -- Accuracy: 0.86 -- F1 Score: 0.56\n",
      "[I 2024-06-07 10:35:54,208] Trial 72 finished with value: 0.5641025641025641 and parameters: {'hidden_units': 45, 'lr': 0.02272375392532926, 'hidden_layers': 4, 'dropout': 0.1245298823264747, 'epochs': 92}. Best is trial 33 with value: 0.5689655172413793.\n",
      "Test Dataset -- Accuracy: 0.86 -- F1 Score: 0.53\n",
      "[I 2024-06-07 10:35:54,665] Trial 73 finished with value: 0.5289256198347106 and parameters: {'hidden_units': 45, 'lr': 0.02465400367489359, 'hidden_layers': 3, 'dropout': 0.1678066863907281, 'epochs': 92}. Best is trial 33 with value: 0.5689655172413793.\n",
      "Test Dataset -- Accuracy: 0.80 -- F1 Score: 0.00\n",
      "[I 2024-06-07 10:35:55,170] Trial 74 finished with value: 0.0 and parameters: {'hidden_units': 48, 'lr': 0.03397890143708118, 'hidden_layers': 4, 'dropout': 0.12599250815743673, 'epochs': 98}. Best is trial 33 with value: 0.5689655172413793.\n",
      "Test Dataset -- Accuracy: 0.80 -- F1 Score: 0.00\n",
      "[I 2024-06-07 10:35:55,707] Trial 75 finished with value: 0.0 and parameters: {'hidden_units': 24, 'lr': 0.02383665817693255, 'hidden_layers': 5, 'dropout': 0.12886692165577007, 'epochs': 85}. Best is trial 33 with value: 0.5689655172413793.\n",
      "Test Dataset -- Accuracy: 0.86 -- F1 Score: 0.57\n",
      "[I 2024-06-07 10:35:56,221] Trial 76 finished with value: 0.5652173913043478 and parameters: {'hidden_units': 45, 'lr': 0.02689877064827215, 'hidden_layers': 4, 'dropout': 0.10320017440326096, 'epochs': 93}. Best is trial 33 with value: 0.5689655172413793.\n",
      "Test Dataset -- Accuracy: 0.80 -- F1 Score: 0.00\n",
      "[I 2024-06-07 10:35:56,732] Trial 77 finished with value: 0.0 and parameters: {'hidden_units': 40, 'lr': 0.02631919412760509, 'hidden_layers': 4, 'dropout': 0.10041094763630602, 'epochs': 100}. Best is trial 33 with value: 0.5689655172413793.\n",
      "Test Dataset -- Accuracy: 0.80 -- F1 Score: 0.00\n",
      "[I 2024-06-07 10:35:57,257] Trial 78 finished with value: 0.0 and parameters: {'hidden_units': 37, 'lr': 0.035863996529477866, 'hidden_layers': 5, 'dropout': 0.10044232139685541, 'epochs': 93}. Best is trial 33 with value: 0.5689655172413793.\n",
      "Test Dataset -- Accuracy: 0.80 -- F1 Score: 0.00\n",
      "[I 2024-06-07 10:35:57,763] Trial 79 finished with value: 0.0 and parameters: {'hidden_units': 44, 'lr': 0.07665266706705565, 'hidden_layers': 4, 'dropout': 0.6303020746131726, 'epochs': 97}. Best is trial 33 with value: 0.5689655172413793.\n",
      "Test Dataset -- Accuracy: 0.79 -- F1 Score: 0.00\n",
      "[I 2024-06-07 10:35:58,007] Trial 80 finished with value: 0.004807692307692307 and parameters: {'hidden_units': 50, 'lr': 0.012318234928140798, 'hidden_layers': 5, 'dropout': 0.732932420324375, 'epochs': 7}. Best is trial 33 with value: 0.5689655172413793.\n",
      "Test Dataset -- Accuracy: 0.85 -- F1 Score: 0.55\n",
      "[I 2024-06-07 10:35:58,458] Trial 81 finished with value: 0.5485362095531587 and parameters: {'hidden_units': 46, 'lr': 0.029730123440366484, 'hidden_layers': 3, 'dropout': 0.1369654166236639, 'epochs': 91}. Best is trial 33 with value: 0.5689655172413793.\n",
      "Test Dataset -- Accuracy: 0.80 -- F1 Score: 0.00\n",
      "[I 2024-06-07 10:35:58,915] Trial 82 finished with value: 0.0 and parameters: {'hidden_units': 43, 'lr': 0.031488035623550376, 'hidden_layers': 3, 'dropout': 0.16531854211137115, 'epochs': 90}. Best is trial 33 with value: 0.5689655172413793.\n",
      "Test Dataset -- Accuracy: 0.85 -- F1 Score: 0.53\n",
      "[I 2024-06-07 10:35:59,349] Trial 83 finished with value: 0.5258064516129032 and parameters: {'hidden_units': 47, 'lr': 0.025849707732203006, 'hidden_layers': 2, 'dropout': 0.13632095360970556, 'epochs': 95}. Best is trial 33 with value: 0.5689655172413793.\n",
      "Test Dataset -- Accuracy: 0.85 -- F1 Score: 0.53\n",
      "[I 2024-06-07 10:35:59,824] Trial 84 finished with value: 0.5275080906148867 and parameters: {'hidden_units': 45, 'lr': 0.020809421806296056, 'hidden_layers': 4, 'dropout': 0.1563462819564072, 'epochs': 86}. Best is trial 33 with value: 0.5689655172413793.\n",
      "Test Dataset -- Accuracy: 0.80 -- F1 Score: 0.00\n",
      "[I 2024-06-07 10:36:00,310] Trial 85 finished with value: 0.0 and parameters: {'hidden_units': 41, 'lr': 0.03961519514650895, 'hidden_layers': 4, 'dropout': 0.1938137729562582, 'epochs': 83}. Best is trial 33 with value: 0.5689655172413793.\n",
      "Test Dataset -- Accuracy: 0.84 -- F1 Score: 0.51\n",
      "[I 2024-06-07 10:36:00,797] Trial 86 finished with value: 0.5053598774885146 and parameters: {'hidden_units': 48, 'lr': 0.02335033868340604, 'hidden_layers': 5, 'dropout': 0.1391132077430962, 'epochs': 80}. Best is trial 33 with value: 0.5689655172413793.\n",
      "Test Dataset -- Accuracy: 0.80 -- F1 Score: 0.00\n",
      "[I 2024-06-07 10:36:01,304] Trial 87 finished with value: 0.0 and parameters: {'hidden_units': 1, 'lr': 0.028091568882942383, 'hidden_layers': 4, 'dropout': 0.41600150483803433, 'epochs': 93}. Best is trial 33 with value: 0.5689655172413793.\n",
      "Test Dataset -- Accuracy: 0.84 -- F1 Score: 0.40\n",
      "[I 2024-06-07 10:36:01,784] Trial 88 finished with value: 0.4036363636363636 and parameters: {'hidden_units': 44, 'lr': 0.021295680583921364, 'hidden_layers': 3, 'dropout': 0.11479041829932475, 'epochs': 98}. Best is trial 33 with value: 0.5689655172413793.\n",
      "Test Dataset -- Accuracy: 0.80 -- F1 Score: 0.00\n",
      "[I 2024-06-07 10:36:02,298] Trial 89 finished with value: 0.0 and parameters: {'hidden_units': 47, 'lr': 0.030203113633662827, 'hidden_layers': 5, 'dropout': 0.17423309764872838, 'epochs': 89}. Best is trial 33 with value: 0.5689655172413793.\n",
      "Test Dataset -- Accuracy: 0.86 -- F1 Score: 0.60\n",
      "[I 2024-06-07 10:36:02,840] Trial 90 finished with value: 0.599721059972106 and parameters: {'hidden_units': 45, 'lr': 0.013545682492482834, 'hidden_layers': 4, 'dropout': 0.11397637559940248, 'epochs': 100}. Best is trial 90 with value: 0.599721059972106.\n",
      "Test Dataset -- Accuracy: 0.85 -- F1 Score: 0.46\n",
      "[I 2024-06-07 10:36:03,358] Trial 91 finished with value: 0.45855379188712514 and parameters: {'hidden_units': 45, 'lr': 0.01344101596905498, 'hidden_layers': 4, 'dropout': 0.10197104555025736, 'epochs': 100}. Best is trial 90 with value: 0.599721059972106.\n",
      "Test Dataset -- Accuracy: 0.80 -- F1 Score: 0.00\n",
      "[I 2024-06-07 10:36:03,873] Trial 92 finished with value: 0.0 and parameters: {'hidden_units': 49, 'lr': 0.02633361138807669, 'hidden_layers': 4, 'dropout': 0.13530164840752948, 'epochs': 97}. Best is trial 90 with value: 0.599721059972106.\n",
      "Test Dataset -- Accuracy: 0.85 -- F1 Score: 0.54\n",
      "[I 2024-06-07 10:36:04,339] Trial 93 finished with value: 0.537037037037037 and parameters: {'hidden_units': 43, 'lr': 0.016405634965771312, 'hidden_layers': 3, 'dropout': 0.11720579002431729, 'epochs': 94}. Best is trial 90 with value: 0.599721059972106.\n",
      "Test Dataset -- Accuracy: 0.85 -- F1 Score: 0.61\n",
      "[I 2024-06-07 10:36:04,848] Trial 94 finished with value: 0.6088082901554404 and parameters: {'hidden_units': 41, 'lr': 0.02282550749974246, 'hidden_layers': 4, 'dropout': 0.15607887476097426, 'epochs': 98}. Best is trial 94 with value: 0.6088082901554404.\n",
      "Test Dataset -- Accuracy: 0.86 -- F1 Score: 0.52\n",
      "[I 2024-06-07 10:36:05,397] Trial 95 finished with value: 0.5167785234899329 and parameters: {'hidden_units': 42, 'lr': 0.019542694368937474, 'hidden_layers': 5, 'dropout': 0.15976727620176007, 'epochs': 100}. Best is trial 94 with value: 0.6088082901554404.\n",
      "Test Dataset -- Accuracy: 0.81 -- F1 Score: 0.20\n",
      "[I 2024-06-07 10:36:06,102] Trial 96 finished with value: 0.1987577639751553 and parameters: {'hidden_units': 40, 'lr': 0.022243669920361562, 'hidden_layers': 10, 'dropout': 0.1159047126830833, 'epochs': 96}. Best is trial 94 with value: 0.6088082901554404.\n",
      "Test Dataset -- Accuracy: 0.80 -- F1 Score: 0.00\n",
      "[I 2024-06-07 10:36:06,590] Trial 97 finished with value: 0.0 and parameters: {'hidden_units': 38, 'lr': 0.009979736143851734, 'hidden_layers': 4, 'dropout': 0.1517844263924835, 'epochs': 93}. Best is trial 94 with value: 0.6088082901554404.\n",
      "Test Dataset -- Accuracy: 0.80 -- F1 Score: 0.00\n",
      "[I 2024-06-07 10:36:07,094] Trial 98 finished with value: 0.0 and parameters: {'hidden_units': 42, 'lr': 0.0029484411040037965, 'hidden_layers': 4, 'dropout': 0.1846861754654332, 'epochs': 96}. Best is trial 94 with value: 0.6088082901554404.\n",
      "Test Dataset -- Accuracy: 0.84 -- F1 Score: 0.51\n",
      "[I 2024-06-07 10:36:07,602] Trial 99 finished with value: 0.5054602184087363 and parameters: {'hidden_units': 41, 'lr': 0.007296090752355511, 'hidden_layers': 5, 'dropout': 0.1014410178538461, 'epochs': 89}. Best is trial 94 with value: 0.6088082901554404.\n",
      "CPU times: user 45.2 s, sys: 538 ms, total: 45.7 s\n",
      "Wall time: 45.9 s\n"
     ]
    }
   ],
   "source": [
    "%%time\n",
    "torch.manual_seed(99)\n",
    "loss_fn = nn.BCEWithLogitsLoss()\n",
    "\n",
    "def objective(trial):\n",
    "    hidden_units = trial.suggest_int('hidden_units', 1, 50)\n",
    "    lr = trial.suggest_float('lr', 0.0001, 0.1)\n",
    "    hidden_layers = trial.suggest_int('hidden_layers', 1, 10)\n",
    "    dropout = trial.suggest_float('dropout', 0.1, 0.8)\n",
    "    epochs = trial.suggest_int('epochs', 1, 100)\n",
    "    \n",
    "    # create model\n",
    "    model = classifier(input_features = 12, hidden_units = hidden_units,\n",
    "                       hidden_layers = hidden_layers, dropout = dropout).to(device)\n",
    "    # create optimizer\n",
    "    optimizer = torch.optim.Adam(model.parameters(), lr = lr)\n",
    "    \n",
    "    # create dictionary to save loss for train and test loss curve\n",
    "    train_loss_dict = {}\n",
    "    test_loss_dict = {}\n",
    "    \n",
    "    for epoch in range(epochs):\n",
    "        model.train()\n",
    "        logits = model(X_train).squeeze()\n",
    "        loss = loss_fn(logits, y_train)\n",
    "        optimizer.zero_grad()\n",
    "        loss.backward()\n",
    "        optimizer.step()\n",
    "\n",
    "        train_loss_dict[epoch] = loss.detach().cpu().numpy()\n",
    "\n",
    "        # evaluate the model\n",
    "        with torch.inference_mode():\n",
    "            test_logits = model(X_test).squeeze()\n",
    "            test_loss = loss_fn(test_logits, y_test)\n",
    "\n",
    "            test_loss_dict[epoch] = test_loss.detach().cpu().numpy()\n",
    "\n",
    "    test_prediction = torch.round(torch.sigmoid(test_logits)).detach().cpu().numpy()\n",
    "    test_accuracy = accuracy_score(y_test.detach().cpu().numpy(), test_prediction)\n",
    "    test_f1 = f1_score(y_test.cpu().numpy(), test_prediction)\n",
    "\n",
    "    print(f'Test Dataset -- Accuracy: {test_accuracy:.2f} -- F1 Score: {test_f1:.2f}')\n",
    "    trial.set_user_attr('train_loss_dict', train_loss_dict)\n",
    "    trial.set_user_attr('test_loss_dict', test_loss_dict)\n",
    "    trial.set_user_attr('test_prediction', test_prediction)\n",
    "    \n",
    "    # use f1 score as the objective function since the data is imbalance\n",
    "    return test_f1\n",
    "\n",
    "# run optuna study\n",
    "study = optuna.create_study(direction='maximize')\n",
    "study.optimize(objective, n_trials=100, show_progress_bar = True,\n",
    "              gc_after_trial = True)"
   ]
  },
  {
   "cell_type": "code",
   "execution_count": 36,
   "metadata": {
    "execution": {
     "iopub.execute_input": "2024-06-07T10:36:07.772216Z",
     "iopub.status.busy": "2024-06-07T10:36:07.771856Z",
     "iopub.status.idle": "2024-06-07T10:36:07.780527Z",
     "shell.execute_reply": "2024-06-07T10:36:07.779527Z",
     "shell.execute_reply.started": "2024-06-07T10:36:07.772181Z"
    }
   },
   "outputs": [
    {
     "name": "stdout",
     "output_type": "stream",
     "text": [
      "Best Hyperparameters: {'hidden_units': 41, 'lr': 0.02282550749974246, 'hidden_layers': 4, 'dropout': 0.15607887476097426, 'epochs': 98}\n",
      "Best f1: 0.6088082901554404\n"
     ]
    }
   ],
   "source": [
    "best_params = study.best_params\n",
    "best_f1 = study.best_value\n",
    "print('Best Hyperparameters:', best_params)\n",
    "print('Best f1:', best_f1)"
   ]
  },
  {
   "cell_type": "markdown",
   "metadata": {},
   "source": [
    "# Plot training vs validation loss"
   ]
  },
  {
   "cell_type": "code",
   "execution_count": 37,
   "metadata": {
    "execution": {
     "iopub.execute_input": "2024-06-07T10:36:07.781896Z",
     "iopub.status.busy": "2024-06-07T10:36:07.781632Z",
     "iopub.status.idle": "2024-06-07T10:36:08.090913Z",
     "shell.execute_reply": "2024-06-07T10:36:08.090071Z",
     "shell.execute_reply.started": "2024-06-07T10:36:07.781872Z"
    }
   },
   "outputs": [
    {
     "data": {
      "image/png": "[encoded data removed]",
      "text/plain": [
       "<Figure size 640x480 with 1 Axes>"
      ]
     },
     "metadata": {},
     "output_type": "display_data"
    }
   ],
   "source": [
    "train_values = study.best_trial.user_attrs['train_loss_dict'].values()\n",
    "test_values = study.best_trial.user_attrs['test_loss_dict'].values()\n",
    "\n",
    "epochs = range(0, best_params['epochs'])\n",
    "\n",
    "plt.plot(epochs, train_values, label='Training Loss')\n",
    "plt.plot(epochs, test_values, label='Validation Loss')\n",
    " \n",
    "plt.title('Training and Validation Loss')\n",
    "plt.xlabel('Epochs')\n",
    "plt.ylabel('Loss')\n",
    " \n",
    "plt.xticks(np.arange(0, 100, 10))\n",
    "plt.legend(loc='best')\n",
    "plt.show()"
   ]
  },
  {
   "cell_type": "markdown",
   "metadata": {},
   "source": [
    "# Confusion Matrix"
   ]
  },
  {
   "cell_type": "code",
   "execution_count": 38,
   "metadata": {
    "execution": {
     "iopub.execute_input": "2024-06-07T10:36:08.092253Z",
     "iopub.status.busy": "2024-06-07T10:36:08.091972Z",
     "iopub.status.idle": "2024-06-07T10:36:08.380064Z",
     "shell.execute_reply": "2024-06-07T10:36:08.379239Z",
     "shell.execute_reply.started": "2024-06-07T10:36:08.092228Z"
    }
   },
   "outputs": [
    {
     "data": {
      "image/png": "[encoded data removed]",
      "text/plain": [
       "<Figure size 640x480 with 2 Axes>"
      ]
     },
     "metadata": {},
     "output_type": "display_data"
    }
   ],
   "source": [
    "test_prediction = study.best_trial.user_attrs['test_prediction']\n",
    "cm = confusion_matrix(y_test.cpu().numpy(), test_prediction)\n",
    "disp = ConfusionMatrixDisplay(confusion_matrix=cm)\n",
    "disp.plot();"
   ]
  }
 ],
 "metadata": {
  "kaggle": {
   "accelerator": "gpu",
   "dataSources": [
    {
     "datasetId": 5039015,
     "sourceId": 8454948,
     "sourceType": "datasetVersion"
    }
   ],
   "dockerImageVersionId": 30715,
   "isGpuEnabled": true,
   "isInternetEnabled": true,
   "language": "python",
   "sourceType": "notebook"
  },
  "kernelspec": {
   "display_name": "Python 3 (ipykernel)",
   "language": "python",
   "name": "python3"
  },
  "language_info": {
   "codemirror_mode": {
    "name": "ipython",
    "version": 3
   },
   "file_extension": ".py",
   "mimetype": "text/x-python",
   "name": "python",
   "nbconvert_exporter": "python",
   "pygments_lexer": "ipython3",
   "version": "3.10.4"
  }
 },
 "nbformat": 4,
 "nbformat_minor": 4
}
